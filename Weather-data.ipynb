{
 "cells": [
  {
   "cell_type": "markdown",
   "metadata": {},
   "source": [
    "# Weather data collected using wrapper for the forecast.io API.\n",
    "[Weather data Wrapper for dark sky api](https://zeevgilovitz.com/python-forecast.io/)\n",
    "It allows you to get the weather for any location, now, in the past, or future. wrapper collected from dark sky API"
   ]
  },
  {
   "cell_type": "code",
   "execution_count": 14,
   "metadata": {},
   "outputs": [],
   "source": [
    "import pandas as pd\n",
    "import datetime\n",
    "import forecastio\n",
    "import getpass"
   ]
  },
  {
   "cell_type": "code",
   "execution_count": 15,
   "metadata": {},
   "outputs": [
    {
     "name": "stdout",
     "output_type": "stream",
     "text": [
      "········\n"
     ]
    }
   ],
   "source": [
    "key='b1e40b6cc81639d0a168b709c6b751eb'\n",
    "api_key = getpass.getpass()"
   ]
  },
  {
   "cell_type": "code",
   "execution_count": 16,
   "metadata": {},
   "outputs": [],
   "source": [
    "lat=37.7749\n",
    "lon=-122.4194"
   ]
  },
  {
   "cell_type": "code",
   "execution_count": 17,
   "metadata": {},
   "outputs": [],
   "source": [
    "attributes = ['temperature', 'summary',\"windSpeed\",'visibility',\"apparentTemperature\"]\n",
    "\n",
    "times = []\n",
    "data = {}\n",
    "for attr in attributes:\n",
    "    data[attr] = []"
   ]
  },
  {
   "cell_type": "code",
   "execution_count": 18,
   "metadata": {},
   "outputs": [
    {
     "data": {
      "text/plain": [
       "datetime.timedelta(187)"
      ]
     },
     "execution_count": 18,
     "metadata": {},
     "output_type": "execute_result"
    }
   ],
   "source": [
    "datetime.datetime(2017,12,31)-datetime.datetime(2017,6,27)"
   ]
  },
  {
   "cell_type": "code",
   "execution_count": 19,
   "metadata": {},
   "outputs": [],
   "source": [
    "\n",
    "start = datetime.datetime(2017,6,27)\n",
    "for offset in range(188):\n",
    "    forecast = forecastio.load_forecast(key, lat, lon, time = start + datetime.timedelta(offset), units = \"us\")\n",
    "    h = forecast.hourly()\n",
    "    d = h.data\n",
    "    for p in d:\n",
    "        times.append(p.time)\n",
    "        for attr in attributes:\n",
    "            data[attr].append(p.d[attr])"
   ]
  },
  {
   "cell_type": "code",
   "execution_count": 20,
   "metadata": {},
   "outputs": [],
   "source": [
    "\n",
    "df = pd.DataFrame(data, index=times)"
   ]
  },
  {
   "cell_type": "code",
   "execution_count": 22,
   "metadata": {},
   "outputs": [
    {
     "data": {
      "text/html": [
       "<div>\n",
       "<style scoped>\n",
       "    .dataframe tbody tr th:only-of-type {\n",
       "        vertical-align: middle;\n",
       "    }\n",
       "\n",
       "    .dataframe tbody tr th {\n",
       "        vertical-align: top;\n",
       "    }\n",
       "\n",
       "    .dataframe thead th {\n",
       "        text-align: right;\n",
       "    }\n",
       "</style>\n",
       "<table border=\"1\" class=\"dataframe\">\n",
       "  <thead>\n",
       "    <tr style=\"text-align: right;\">\n",
       "      <th></th>\n",
       "      <th>temperature</th>\n",
       "      <th>summary</th>\n",
       "      <th>windSpeed</th>\n",
       "      <th>visibility</th>\n",
       "      <th>apparentTemperature</th>\n",
       "    </tr>\n",
       "  </thead>\n",
       "  <tbody>\n",
       "    <tr>\n",
       "      <th>2017-06-27 07:00:00</th>\n",
       "      <td>60.06</td>\n",
       "      <td>Mostly Cloudy</td>\n",
       "      <td>5.57</td>\n",
       "      <td>10.00</td>\n",
       "      <td>60.06</td>\n",
       "    </tr>\n",
       "    <tr>\n",
       "      <th>2017-06-27 08:00:00</th>\n",
       "      <td>59.50</td>\n",
       "      <td>Mostly Cloudy</td>\n",
       "      <td>5.20</td>\n",
       "      <td>10.00</td>\n",
       "      <td>59.50</td>\n",
       "    </tr>\n",
       "    <tr>\n",
       "      <th>2017-06-27 09:00:00</th>\n",
       "      <td>58.94</td>\n",
       "      <td>Overcast</td>\n",
       "      <td>5.53</td>\n",
       "      <td>10.00</td>\n",
       "      <td>58.94</td>\n",
       "    </tr>\n",
       "    <tr>\n",
       "      <th>2017-06-27 10:00:00</th>\n",
       "      <td>58.41</td>\n",
       "      <td>Overcast</td>\n",
       "      <td>5.54</td>\n",
       "      <td>9.15</td>\n",
       "      <td>58.41</td>\n",
       "    </tr>\n",
       "    <tr>\n",
       "      <th>2017-06-27 11:00:00</th>\n",
       "      <td>58.13</td>\n",
       "      <td>Overcast</td>\n",
       "      <td>5.04</td>\n",
       "      <td>10.00</td>\n",
       "      <td>58.13</td>\n",
       "    </tr>\n",
       "  </tbody>\n",
       "</table>\n",
       "</div>"
      ],
      "text/plain": [
       "                     temperature        summary  windSpeed  visibility  \\\n",
       "2017-06-27 07:00:00        60.06  Mostly Cloudy       5.57       10.00   \n",
       "2017-06-27 08:00:00        59.50  Mostly Cloudy       5.20       10.00   \n",
       "2017-06-27 09:00:00        58.94       Overcast       5.53       10.00   \n",
       "2017-06-27 10:00:00        58.41       Overcast       5.54        9.15   \n",
       "2017-06-27 11:00:00        58.13       Overcast       5.04       10.00   \n",
       "\n",
       "                     apparentTemperature  \n",
       "2017-06-27 07:00:00                60.06  \n",
       "2017-06-27 08:00:00                59.50  \n",
       "2017-06-27 09:00:00                58.94  \n",
       "2017-06-27 10:00:00                58.41  \n",
       "2017-06-27 11:00:00                58.13  "
      ]
     },
     "execution_count": 22,
     "metadata": {},
     "output_type": "execute_result"
    }
   ],
   "source": [
    "\n",
    "df.head()"
   ]
  },
  {
   "cell_type": "code",
   "execution_count": 25,
   "metadata": {},
   "outputs": [],
   "source": [
    "import pytz\n",
    "pst=pytz.timezone('US/Pacific')"
   ]
  },
  {
   "cell_type": "code",
   "execution_count": 26,
   "metadata": {},
   "outputs": [],
   "source": [
    "#convert utc to pst\n",
    "\n",
    "df_time = df.tz_localize(pytz.utc).tz_convert(pst)"
   ]
  },
  {
   "cell_type": "code",
   "execution_count": 27,
   "metadata": {},
   "outputs": [
    {
     "data": {
      "text/html": [
       "<div>\n",
       "<style scoped>\n",
       "    .dataframe tbody tr th:only-of-type {\n",
       "        vertical-align: middle;\n",
       "    }\n",
       "\n",
       "    .dataframe tbody tr th {\n",
       "        vertical-align: top;\n",
       "    }\n",
       "\n",
       "    .dataframe thead th {\n",
       "        text-align: right;\n",
       "    }\n",
       "</style>\n",
       "<table border=\"1\" class=\"dataframe\">\n",
       "  <thead>\n",
       "    <tr style=\"text-align: right;\">\n",
       "      <th></th>\n",
       "      <th>temperature</th>\n",
       "      <th>summary</th>\n",
       "      <th>windSpeed</th>\n",
       "      <th>visibility</th>\n",
       "      <th>apparentTemperature</th>\n",
       "    </tr>\n",
       "  </thead>\n",
       "  <tbody>\n",
       "    <tr>\n",
       "      <th>2017-06-27 00:00:00-07:00</th>\n",
       "      <td>60.06</td>\n",
       "      <td>Mostly Cloudy</td>\n",
       "      <td>5.57</td>\n",
       "      <td>10.00</td>\n",
       "      <td>60.06</td>\n",
       "    </tr>\n",
       "    <tr>\n",
       "      <th>2017-06-27 01:00:00-07:00</th>\n",
       "      <td>59.50</td>\n",
       "      <td>Mostly Cloudy</td>\n",
       "      <td>5.20</td>\n",
       "      <td>10.00</td>\n",
       "      <td>59.50</td>\n",
       "    </tr>\n",
       "    <tr>\n",
       "      <th>2017-06-27 02:00:00-07:00</th>\n",
       "      <td>58.94</td>\n",
       "      <td>Overcast</td>\n",
       "      <td>5.53</td>\n",
       "      <td>10.00</td>\n",
       "      <td>58.94</td>\n",
       "    </tr>\n",
       "    <tr>\n",
       "      <th>2017-06-27 03:00:00-07:00</th>\n",
       "      <td>58.41</td>\n",
       "      <td>Overcast</td>\n",
       "      <td>5.54</td>\n",
       "      <td>9.15</td>\n",
       "      <td>58.41</td>\n",
       "    </tr>\n",
       "    <tr>\n",
       "      <th>2017-06-27 04:00:00-07:00</th>\n",
       "      <td>58.13</td>\n",
       "      <td>Overcast</td>\n",
       "      <td>5.04</td>\n",
       "      <td>10.00</td>\n",
       "      <td>58.13</td>\n",
       "    </tr>\n",
       "  </tbody>\n",
       "</table>\n",
       "</div>"
      ],
      "text/plain": [
       "                           temperature        summary  windSpeed  visibility  \\\n",
       "2017-06-27 00:00:00-07:00        60.06  Mostly Cloudy       5.57       10.00   \n",
       "2017-06-27 01:00:00-07:00        59.50  Mostly Cloudy       5.20       10.00   \n",
       "2017-06-27 02:00:00-07:00        58.94       Overcast       5.53       10.00   \n",
       "2017-06-27 03:00:00-07:00        58.41       Overcast       5.54        9.15   \n",
       "2017-06-27 04:00:00-07:00        58.13       Overcast       5.04       10.00   \n",
       "\n",
       "                           apparentTemperature  \n",
       "2017-06-27 00:00:00-07:00                60.06  \n",
       "2017-06-27 01:00:00-07:00                59.50  \n",
       "2017-06-27 02:00:00-07:00                58.94  \n",
       "2017-06-27 03:00:00-07:00                58.41  \n",
       "2017-06-27 04:00:00-07:00                58.13  "
      ]
     },
     "execution_count": 27,
     "metadata": {},
     "output_type": "execute_result"
    }
   ],
   "source": [
    "df_time.head()"
   ]
  },
  {
   "cell_type": "code",
   "execution_count": 28,
   "metadata": {},
   "outputs": [
    {
     "data": {
      "text/plain": [
       "Clear            2628\n",
       "Partly Cloudy     840\n",
       "Mostly Cloudy     685\n",
       "Overcast          315\n",
       "Rain               23\n",
       "Light Rain         22\n",
       "Name: summary, dtype: int64"
      ]
     },
     "execution_count": 28,
     "metadata": {},
     "output_type": "execute_result"
    }
   ],
   "source": [
    "df_time.summary.value_counts()"
   ]
  },
  {
   "cell_type": "code",
   "execution_count": 29,
   "metadata": {},
   "outputs": [
    {
     "data": {
      "text/html": [
       "<div>\n",
       "<style scoped>\n",
       "    .dataframe tbody tr th:only-of-type {\n",
       "        vertical-align: middle;\n",
       "    }\n",
       "\n",
       "    .dataframe tbody tr th {\n",
       "        vertical-align: top;\n",
       "    }\n",
       "\n",
       "    .dataframe thead th {\n",
       "        text-align: right;\n",
       "    }\n",
       "</style>\n",
       "<table border=\"1\" class=\"dataframe\">\n",
       "  <thead>\n",
       "    <tr style=\"text-align: right;\">\n",
       "      <th></th>\n",
       "      <th>temperature</th>\n",
       "      <th>windSpeed</th>\n",
       "      <th>visibility</th>\n",
       "      <th>apparentTemperature</th>\n",
       "    </tr>\n",
       "  </thead>\n",
       "  <tbody>\n",
       "    <tr>\n",
       "      <th>count</th>\n",
       "      <td>4513.000000</td>\n",
       "      <td>4513.000000</td>\n",
       "      <td>4513.000000</td>\n",
       "      <td>4513.000000</td>\n",
       "    </tr>\n",
       "    <tr>\n",
       "      <th>mean</th>\n",
       "      <td>61.511642</td>\n",
       "      <td>3.025006</td>\n",
       "      <td>9.564343</td>\n",
       "      <td>61.502566</td>\n",
       "    </tr>\n",
       "    <tr>\n",
       "      <th>std</th>\n",
       "      <td>8.936832</td>\n",
       "      <td>1.801661</td>\n",
       "      <td>1.051400</td>\n",
       "      <td>8.983178</td>\n",
       "    </tr>\n",
       "    <tr>\n",
       "      <th>min</th>\n",
       "      <td>39.350000</td>\n",
       "      <td>0.040000</td>\n",
       "      <td>2.380000</td>\n",
       "      <td>39.350000</td>\n",
       "    </tr>\n",
       "    <tr>\n",
       "      <th>25%</th>\n",
       "      <td>55.870000</td>\n",
       "      <td>1.550000</td>\n",
       "      <td>9.700000</td>\n",
       "      <td>55.870000</td>\n",
       "    </tr>\n",
       "    <tr>\n",
       "      <th>50%</th>\n",
       "      <td>60.370000</td>\n",
       "      <td>2.750000</td>\n",
       "      <td>10.000000</td>\n",
       "      <td>60.370000</td>\n",
       "    </tr>\n",
       "    <tr>\n",
       "      <th>75%</th>\n",
       "      <td>66.600000</td>\n",
       "      <td>4.240000</td>\n",
       "      <td>10.000000</td>\n",
       "      <td>66.640000</td>\n",
       "    </tr>\n",
       "    <tr>\n",
       "      <th>max</th>\n",
       "      <td>103.750000</td>\n",
       "      <td>11.210000</td>\n",
       "      <td>10.000000</td>\n",
       "      <td>103.750000</td>\n",
       "    </tr>\n",
       "  </tbody>\n",
       "</table>\n",
       "</div>"
      ],
      "text/plain": [
       "       temperature    windSpeed   visibility  apparentTemperature\n",
       "count  4513.000000  4513.000000  4513.000000          4513.000000\n",
       "mean     61.511642     3.025006     9.564343            61.502566\n",
       "std       8.936832     1.801661     1.051400             8.983178\n",
       "min      39.350000     0.040000     2.380000            39.350000\n",
       "25%      55.870000     1.550000     9.700000            55.870000\n",
       "50%      60.370000     2.750000    10.000000            60.370000\n",
       "75%      66.600000     4.240000    10.000000            66.640000\n",
       "max     103.750000    11.210000    10.000000           103.750000"
      ]
     },
     "execution_count": 29,
     "metadata": {},
     "output_type": "execute_result"
    }
   ],
   "source": [
    "df_time.describe()"
   ]
  },
  {
   "cell_type": "code",
   "execution_count": 34,
   "metadata": {},
   "outputs": [
    {
     "data": {
      "text/plain": [
       "DatetimeIndex(['2017-06-27 00:00:00-07:00', '2017-06-27 01:00:00-07:00',\n",
       "               '2017-06-27 02:00:00-07:00', '2017-06-27 03:00:00-07:00',\n",
       "               '2017-06-27 04:00:00-07:00', '2017-06-27 05:00:00-07:00',\n",
       "               '2017-06-27 06:00:00-07:00', '2017-06-27 07:00:00-07:00',\n",
       "               '2017-06-27 08:00:00-07:00', '2017-06-27 09:00:00-07:00',\n",
       "               ...\n",
       "               '2017-12-31 14:00:00-08:00', '2017-12-31 15:00:00-08:00',\n",
       "               '2017-12-31 16:00:00-08:00', '2017-12-31 17:00:00-08:00',\n",
       "               '2017-12-31 18:00:00-08:00', '2017-12-31 19:00:00-08:00',\n",
       "               '2017-12-31 20:00:00-08:00', '2017-12-31 21:00:00-08:00',\n",
       "               '2017-12-31 22:00:00-08:00', '2017-12-31 23:00:00-08:00'],\n",
       "              dtype='datetime64[ns, US/Pacific]', length=4513, freq=None)"
      ]
     },
     "execution_count": 34,
     "metadata": {},
     "output_type": "execute_result"
    }
   ],
   "source": [
    "#remove tz element in dt index\n",
    "\n",
    "df_time.index[0:]"
   ]
  },
  {
   "cell_type": "code",
   "execution_count": 35,
   "metadata": {},
   "outputs": [],
   "source": [
    "#save to csv file\n",
    "df_time.to_csv('weather.csv',sep=',',encoding='utf-8')"
   ]
  }
 ],
 "metadata": {
  "kernelspec": {
   "display_name": "Python 3",
   "language": "python",
   "name": "python3"
  },
  "language_info": {
   "codemirror_mode": {
    "name": "ipython",
    "version": 3
   },
   "file_extension": ".py",
   "mimetype": "text/x-python",
   "name": "python",
   "nbconvert_exporter": "python",
   "pygments_lexer": "ipython3",
   "version": "3.6.6"
  }
 },
 "nbformat": 4,
 "nbformat_minor": 2
}
